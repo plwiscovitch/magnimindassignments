{
 "cells": [
  {
   "cell_type": "markdown",
   "id": "d130a09a",
   "metadata": {},
   "source": [
    "# Dictionary Assignment - Payton Wiscovitch"
   ]
  },
  {
   "cell_type": "code",
   "execution_count": 5,
   "id": "750ebf34",
   "metadata": {},
   "outputs": [],
   "source": [
    "#Question 1: Create a dictionary with 7 days. Ask the user to choose 2 different days by listing them.\n",
    "# Delete the user listed days from the dictionary and print the remaining 5 days."
   ]
  },
  {
   "cell_type": "code",
   "execution_count": 8,
   "id": "366f31a5",
   "metadata": {},
   "outputs": [],
   "source": [
    "days_dict = {'1': 'Monday', '2':'Tuesday', '3':'Wednesday', '4': 'Thursday', '5':'Friday', '6':'Saturday', '7': 'Sunday'}"
   ]
  },
  {
   "cell_type": "code",
   "execution_count": 9,
   "id": "4021ae1e",
   "metadata": {},
   "outputs": [
    {
     "name": "stdout",
     "output_type": "stream",
     "text": [
      "Enter the number day you would like to remove from the dictionary separated by commas: 3,7\n",
      "Remainging days: \n",
      "1: Monday\n",
      "2: Tuesday\n",
      "4: Thursday\n",
      "5: Friday\n",
      "6: Saturday\n"
     ]
    }
   ],
   "source": [
    "# user input for days to delete\n",
    "user_input = input(\"Enter the number day you would like to remove from the dictionary separated by commas: \")\n",
    "\n",
    "#split input to get days to delete\n",
    "delete_days = user_input.split(',')\n",
    "\n",
    "#remove input from dictionary\n",
    "for day in delete_days:\n",
    "    if day.strip() in days_dict:\n",
    "        del days_dict[day.strip()]\n",
    "        \n",
    "#print the result\n",
    "print(\"Remainging days: \")\n",
    "for key, value in days_dict.items():\n",
    "    print(f\"{key}: {value}\")\n",
    "\n"
   ]
  },
  {
   "cell_type": "code",
   "execution_count": 10,
   "id": "4cd21e31",
   "metadata": {},
   "outputs": [
    {
     "name": "stdout",
     "output_type": "stream",
     "text": [
      "{'Michael': '20', 'Linda': '30'}\n"
     ]
    }
   ],
   "source": [
    "# Question 2 Create a dictionary with personnel and age information\n",
    "personnel_age = {'Michael': '20', 'Linda': '30'}\n",
    "print(personnel_age)"
   ]
  },
  {
   "cell_type": "code",
   "execution_count": 12,
   "id": "84095f19",
   "metadata": {},
   "outputs": [
    {
     "data": {
      "text/plain": [
       "['Karen', 'Greg']"
      ]
     },
     "execution_count": 12,
     "metadata": {},
     "output_type": "execute_result"
    }
   ],
   "source": [
    "# Question 3 & 4 Add children information and print Michael's children in a list\n",
    "personnel_children = {'Michael' : ['Karen', 'Greg'], 'Linda' : ['Susan']}\n",
    "personnel_children['Michael']"
   ]
  },
  {
   "cell_type": "code",
   "execution_count": null,
   "id": "3bbbbf50",
   "metadata": {},
   "outputs": [],
   "source": []
  }
 ],
 "metadata": {
  "kernelspec": {
   "display_name": "Python 3 (ipykernel)",
   "language": "python",
   "name": "python3"
  },
  "language_info": {
   "codemirror_mode": {
    "name": "ipython",
    "version": 3
   },
   "file_extension": ".py",
   "mimetype": "text/x-python",
   "name": "python",
   "nbconvert_exporter": "python",
   "pygments_lexer": "ipython3",
   "version": "3.9.19"
  }
 },
 "nbformat": 4,
 "nbformat_minor": 5
}
