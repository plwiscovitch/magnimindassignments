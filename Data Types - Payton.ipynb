{
 "cells": [
  {
   "cell_type": "markdown",
   "id": "e1713ed2",
   "metadata": {},
   "source": [
    "# Data Types - Payton Wiscovitch"
   ]
  },
  {
   "cell_type": "code",
   "execution_count": 1,
   "id": "25ea6cfe",
   "metadata": {},
   "outputs": [],
   "source": [
    "capital = 1000 # initial investment\n",
    "dailygrowth = 0.12 # daily growth rate\n",
    "period = 7 # number of days\n"
   ]
  },
  {
   "cell_type": "code",
   "execution_count": 2,
   "id": "95a5f2c9",
   "metadata": {},
   "outputs": [],
   "source": [
    "final_growth_rate = (1 + dailygrowth) ** period # calculate final growth rate"
   ]
  },
  {
   "cell_type": "code",
   "execution_count": 4,
   "id": "1134cf53",
   "metadata": {},
   "outputs": [
    {
     "name": "stdout",
     "output_type": "stream",
     "text": [
      "Final growth rate after 7 days: 2.2106814074060814\n"
     ]
    }
   ],
   "source": [
    "print(\"Final growth rate after 7 days:\", final_growth_rate)"
   ]
  },
  {
   "cell_type": "code",
   "execution_count": 5,
   "id": "6c12bef3",
   "metadata": {},
   "outputs": [],
   "source": [
    "worth = capital * final_growth_rate"
   ]
  },
  {
   "cell_type": "code",
   "execution_count": 7,
   "id": "a7d8df13",
   "metadata": {},
   "outputs": [
    {
     "name": "stdout",
     "output_type": "stream",
     "text": [
      "Investment worth after 7 days: $ 2210.68\n"
     ]
    }
   ],
   "source": [
    "print(\"Investment worth after 7 days: $\", round(worth, 2))"
   ]
  },
  {
   "cell_type": "code",
   "execution_count": 8,
   "id": "59954438",
   "metadata": {},
   "outputs": [],
   "source": [
    "# Question 2: using .format() to insert values into a string"
   ]
  },
  {
   "cell_type": "code",
   "execution_count": 13,
   "id": "1ae2e991",
   "metadata": {},
   "outputs": [],
   "source": [
    "gain = round(worth - capital,2)"
   ]
  },
  {
   "cell_type": "code",
   "execution_count": 14,
   "id": "de21a418",
   "metadata": {},
   "outputs": [
    {
     "name": "stdout",
     "output_type": "stream",
     "text": [
      "When we buy bitcoin with 1000 USD at the beginning of the week, we would earn 1210.68 USD at the end of the week, with an average gain of 12% daily.\n"
     ]
    }
   ],
   "source": [
    "print(\"When we buy bitcoin with {} USD at the beginning of the week, we would earn {} USD at the end of the week, with an average gain of {}% daily.\" .format(capital, gain, 12))"
   ]
  },
  {
   "cell_type": "code",
   "execution_count": 15,
   "id": "b7534013",
   "metadata": {},
   "outputs": [],
   "source": [
    "# Question 3 converting user degree F to C"
   ]
  },
  {
   "cell_type": "code",
   "execution_count": 29,
   "id": "10737113",
   "metadata": {},
   "outputs": [
    {
     "name": "stdout",
     "output_type": "stream",
     "text": [
      "User temperature in Celcius: -3.3333333333333335\n"
     ]
    }
   ],
   "source": [
    "user_farenheit = 26\n",
    "F = user_farenheit\n",
    "celcius = (5/9) * (F - 32)\n",
    "print('User temperature in Celcius:', celcius)"
   ]
  },
  {
   "cell_type": "code",
   "execution_count": 21,
   "id": "d2dec4e3",
   "metadata": {},
   "outputs": [],
   "source": [
    "# Question 4 sum of numbers from user"
   ]
  },
  {
   "cell_type": "code",
   "execution_count": 28,
   "id": "f4710abb",
   "metadata": {},
   "outputs": [
    {
     "name": "stdout",
     "output_type": "stream",
     "text": [
      "The sum of the digits is: 15\n"
     ]
    }
   ],
   "source": [
    "user_number = '456'\n",
    "digit_one = int(user_number[0])\n",
    "digit_two = int(user_number[1])\n",
    "digit_three = int(user_number[2])\n",
    "sum_user_number = digit_one + digit_two + digit_three\n",
    "print(\"The sum of the digits is:\" ,sum_user_number)"
   ]
  },
  {
   "cell_type": "code",
   "execution_count": 25,
   "id": "305f29d0",
   "metadata": {},
   "outputs": [],
   "source": [
    "# Question 5 given the length of two sides of a right angle triangle, calculate the hypotenuse"
   ]
  },
  {
   "cell_type": "code",
   "execution_count": 26,
   "id": "df18a7c3",
   "metadata": {},
   "outputs": [],
   "source": [
    "a = 6\n",
    "b = 8\n",
    "import math"
   ]
  },
  {
   "cell_type": "code",
   "execution_count": 31,
   "id": "bb211e6d",
   "metadata": {},
   "outputs": [
    {
     "name": "stdout",
     "output_type": "stream",
     "text": [
      "The length of the hypotenuse is: 10.0\n"
     ]
    }
   ],
   "source": [
    "c = math.sqrt(a**2 + b**2)\n",
    "print(\"The length of the hypotenuse is:\", c)"
   ]
  },
  {
   "cell_type": "code",
   "execution_count": null,
   "id": "4ccbc65d",
   "metadata": {},
   "outputs": [],
   "source": []
  }
 ],
 "metadata": {
  "kernelspec": {
   "display_name": "Python 3 (ipykernel)",
   "language": "python",
   "name": "python3"
  },
  "language_info": {
   "codemirror_mode": {
    "name": "ipython",
    "version": 3
   },
   "file_extension": ".py",
   "mimetype": "text/x-python",
   "name": "python",
   "nbconvert_exporter": "python",
   "pygments_lexer": "ipython3",
   "version": "3.9.19"
  }
 },
 "nbformat": 4,
 "nbformat_minor": 5
}
