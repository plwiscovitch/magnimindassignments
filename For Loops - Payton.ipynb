{
 "cells": [
  {
   "cell_type": "code",
   "execution_count": null,
   "metadata": {
    "id": "R4UD62Y4ItRK"
   },
   "outputs": [],
   "source": [
    "#@title Exercises"
   ]
  },
  {
   "cell_type": "markdown",
   "metadata": {
    "id": "lvWk0tIPS64Q"
   },
   "source": [
    "**Write a Python program to sum of three given integers. However, if two values are equal sum will be zero.**"
   ]
  },
  {
   "cell_type": "code",
   "execution_count": 1,
   "metadata": {
    "id": "WJz4pPldS64S"
   },
   "outputs": [
    {
     "name": "stdout",
     "output_type": "stream",
     "text": [
      "please enter the first integer: 3\n",
      "please enter the second integer: 3\n",
      "please enter the third integer: 5\n",
      "0\n"
     ]
    }
   ],
   "source": [
    "x = int(input(\"please enter the first integer: \"))\n",
    "y = int(input(\"please enter the second integer: \"))\n",
    "z = int(input(\"please enter the third integer: \"))\n",
    "\n",
    "if x == y or x == z or y == z:\n",
    "  print(0)\n",
    "else:\n",
    "  print(x+y+z)\n",
    "        \n",
    "    "
   ]
  },
  {
   "cell_type": "code",
   "execution_count": 2,
   "metadata": {},
   "outputs": [
    {
     "name": "stdout",
     "output_type": "stream",
     "text": [
      "please enter the first integer: 1\n",
      "please enter the second integer: 2\n",
      "please enter the third integer: 3\n",
      "6\n"
     ]
    }
   ],
   "source": [
    "x = int(input(\"please enter the first integer: \"))\n",
    "y = int(input(\"please enter the second integer: \"))\n",
    "z = int(input(\"please enter the third integer: \"))\n",
    "\n",
    "if x == y or x == z or y == z:\n",
    "  print(0)\n",
    "else:\n",
    "  print(x+y+z)"
   ]
  },
  {
   "cell_type": "code",
   "execution_count": null,
   "metadata": {},
   "outputs": [],
   "source": [
    "#how would I write this into a function to call?"
   ]
  },
  {
   "cell_type": "code",
   "execution_count": 3,
   "metadata": {},
   "outputs": [],
   "source": [
    "def the_program(x, y, z):\n",
    "    if x == y or x == z or y == z:\n",
    "        return 0\n",
    "    else:\n",
    "        return x + y + z"
   ]
  },
  {
   "cell_type": "code",
   "execution_count": 4,
   "metadata": {},
   "outputs": [
    {
     "data": {
      "text/plain": [
       "6"
      ]
     },
     "execution_count": 4,
     "metadata": {},
     "output_type": "execute_result"
    }
   ],
   "source": [
    "the_program(1,2,3)"
   ]
  },
  {
   "cell_type": "code",
   "execution_count": 5,
   "metadata": {},
   "outputs": [
    {
     "data": {
      "text/plain": [
       "0"
      ]
     },
     "execution_count": 5,
     "metadata": {},
     "output_type": "execute_result"
    }
   ],
   "source": [
    "the_program(3,3,5)"
   ]
  },
  {
   "cell_type": "markdown",
   "metadata": {
    "id": "Etr0y7KLS64S"
   },
   "source": [
    "**Write a Python program to sum of two given integers. However, if the sum is between 15 to 20 it will return the sum, otherwise print \"Please enter different numbers\"**"
   ]
  },
  {
   "cell_type": "code",
   "execution_count": 9,
   "metadata": {},
   "outputs": [],
   "source": [
    "def sumof_two(a, b):\n",
    "    if a + b >=15 and a + b <= 20:\n",
    "        return a + b\n",
    "    else:\n",
    "        return \"Please enter different numbers\""
   ]
  },
  {
   "cell_type": "code",
   "execution_count": 10,
   "metadata": {
    "id": "UBE-VEknTtRC"
   },
   "outputs": [
    {
     "data": {
      "text/plain": [
       "'Please enter different numbers'"
      ]
     },
     "execution_count": 10,
     "metadata": {},
     "output_type": "execute_result"
    }
   ],
   "source": [
    "sumof_two(1, 2)"
   ]
  },
  {
   "cell_type": "code",
   "execution_count": 11,
   "metadata": {},
   "outputs": [
    {
     "data": {
      "text/plain": [
       "16"
      ]
     },
     "execution_count": 11,
     "metadata": {},
     "output_type": "execute_result"
    }
   ],
   "source": [
    "sumof_two(10, 6)"
   ]
  },
  {
   "cell_type": "markdown",
   "metadata": {
    "id": "PK_Alva2S64U"
   },
   "source": [
    "**Print these forms**"
   ]
  },
  {
   "cell_type": "code",
   "execution_count": null,
   "metadata": {
    "colab": {
     "base_uri": "https://localhost:8080/"
    },
    "id": "Lm52wxhIS64V",
    "outputId": "d8c1b8d1-7535-4154-c65b-939928d4b3ab"
   },
   "outputs": [
    {
     "name": "stdout",
     "output_type": "stream",
     "text": [
      "*****\n",
      "****\n",
      "***\n",
      "**\n",
      "*\n"
     ]
    }
   ],
   "source": [
    "*****\n",
    "****\n",
    "***\n",
    "**\n",
    "*\n"
   ]
  },
  {
   "cell_type": "code",
   "execution_count": 15,
   "metadata": {},
   "outputs": [
    {
     "name": "stdout",
     "output_type": "stream",
     "text": [
      "*****\n",
      "****\n",
      "***\n",
      "**\n",
      "*\n"
     ]
    }
   ],
   "source": [
    "#establish number of rows\n",
    "a = 5\n",
    "#create range from 5-1 descending by 1\n",
    "for b in range(a, 0, -1):\n",
    "    for c in range(b): #will run the for loop b amount of times\n",
    "       print('*', end=\"\") #prints asterisks on same row without moving to new line\n",
    "    print('')  #moves to new line after for loop runs b times"
   ]
  },
  {
   "cell_type": "code",
   "execution_count": 20,
   "metadata": {},
   "outputs": [
    {
     "name": "stdout",
     "output_type": "stream",
     "text": [
      "1\n",
      "12\n",
      "123\n",
      "1234\n",
      "12345\n"
     ]
    }
   ],
   "source": [
    "#very similar to last problem but need to use f+1 since we are adding a number each line\n",
    "for e in range(1, 6):\n",
    "    for f in range(e):\n",
    "        print(f+1, end=\"\")\n",
    "    print('')"
   ]
  },
  {
   "cell_type": "code",
   "execution_count": null,
   "metadata": {
    "colab": {
     "base_uri": "https://localhost:8080/"
    },
    "id": "Mi4cJ4o8S64Z",
    "outputId": "a8882759-d0a5-45c7-9ce5-51ab939e8530"
   },
   "outputs": [
    {
     "name": "stdout",
     "output_type": "stream",
     "text": [
      "Please enter a number: 5\n",
      "1 \n",
      "1 2 \n",
      "1 2 3 \n",
      "1 2 3 4 \n",
      "1 2 3 4 5 \n"
     ]
    }
   ],
   "source": [
    "1\n",
    "12\n",
    "123\n",
    "1234\n",
    "12345\n"
   ]
  },
  {
   "cell_type": "code",
   "execution_count": 4,
   "metadata": {},
   "outputs": [
    {
     "name": "stdout",
     "output_type": "stream",
     "text": [
      "please enter a number: 5\n",
      "1 \n",
      "1 2 \n",
      "1 2 3 \n",
      "1 2 3 4 \n",
      "1 2 3 4 5 \n"
     ]
    }
   ],
   "source": [
    "p = int(input(\"please enter a number: \")) #take user input typecast to int\n",
    "for q in range(1, p + 1): #iterates from 1 to number input by user so 1-5 \n",
    "    for r in range(1, q + 1): #inner loop to iterate in increasing increments each row\n",
    "        print(r, end=\" \")\n",
    "    print()"
   ]
  },
  {
   "cell_type": "code",
   "execution_count": 1,
   "metadata": {},
   "outputs": [
    {
     "name": "stdout",
     "output_type": "stream",
     "text": [
      "          * \n",
      "        * * \n",
      "      * * * \n",
      "    * * * * \n",
      "  * * * * * \n"
     ]
    }
   ],
   "source": [
    "#print decreasing triangle of space next to increasing triangle of stars\n",
    "n = 5\n",
    "for i in range(n):\n",
    "  for j in range(i, n):\n",
    "    print(' ', end=' ')\n",
    "  for j in range(i+1):\n",
    "    print('*', end=' ')\n",
    "  print()"
   ]
  },
  {
   "cell_type": "code",
   "execution_count": null,
   "metadata": {
    "colab": {
     "base_uri": "https://localhost:8080/"
    },
    "id": "bDiw1PXmS64b",
    "outputId": "f9f76e44-1924-4dab-d98c-72aa1f6c98da"
   },
   "outputs": [
    {
     "name": "stdout",
     "output_type": "stream",
     "text": [
      "5\n",
      "        * \n",
      "      * * \n",
      "    * * * \n",
      "  * * * * \n",
      "* * * * * \n"
     ]
    }
   ],
   "source": [
    "         *\n",
    "       * *\n",
    "     * * *\n",
    "   * * * *\n",
    " * * * * *\n"
   ]
  },
  {
   "cell_type": "code",
   "execution_count": null,
   "metadata": {
    "id": "smdYdN4NS64c"
   },
   "outputs": [],
   "source": [
    "#      1\n",
    "#     1 2\n",
    "#    1 2 3\n",
    "#   1 2 3 4\n",
    "#  1 2 3 4 5\n"
   ]
  },
  {
   "cell_type": "code",
   "execution_count": 3,
   "metadata": {
    "id": "40vURJmSS64c"
   },
   "outputs": [
    {
     "name": "stdout",
     "output_type": "stream",
     "text": [
      "     \n",
      "    1 \n",
      "   1 2 \n",
      "  1 2 3 \n",
      " 1 2 3 4 \n",
      "1 2 3 4 5 \n"
     ]
    }
   ],
   "source": [
    " n = 5\n",
    " k = n - 1\n",
    "for i in range(n+1):\n",
    "  for j in range(0,k+1):\n",
    "    print(end = \" \")\n",
    "  k -= 1\n",
    "  for j in range (0, i+1):\n",
    "    if j > 0:\n",
    "      print(j , end=' ')\n",
    "  print()"
   ]
  },
  {
   "cell_type": "markdown",
   "metadata": {
    "id": "LaTaPDllS64d"
   },
   "source": [
    "**Write a Python program to get a string made of the first 2 and the last 2 chars from a given a string. If the string length is less than 2, return instead of the empty string**"
   ]
  },
  {
   "cell_type": "code",
   "execution_count": 8,
   "metadata": {
    "id": "dO1aO9ssS64d"
   },
   "outputs": [],
   "source": [
    "def grab_firstlast2(x):\n",
    "  if len(x) <= 2:\n",
    "    return x\n",
    "  else:\n",
    "    return f\"the first two letters are '{x[:2]}'\" + f\" the last 2 letters are '{x[-2:]}'\""
   ]
  },
  {
   "cell_type": "code",
   "execution_count": 9,
   "metadata": {
    "id": "wr6DYyAAS64e"
   },
   "outputs": [
    {
     "data": {
      "text/plain": [
       "\"the first two letters are 'th' the last 2 letters are 'as'\""
      ]
     },
     "execution_count": 9,
     "metadata": {},
     "output_type": "execute_result"
    }
   ],
   "source": [
    "grab_firstlast2('this is bananas')"
   ]
  },
  {
   "cell_type": "code",
   "execution_count": 10,
   "metadata": {},
   "outputs": [
    {
     "data": {
      "text/plain": [
       "'hi'"
      ]
     },
     "execution_count": 10,
     "metadata": {},
     "output_type": "execute_result"
    }
   ],
   "source": [
    "grab_firstlast2('hi')"
   ]
  },
  {
   "cell_type": "markdown",
   "metadata": {
    "id": "2B2_YKHKS64f"
   },
   "source": [
    "**A number from the user will be set to be \"Armstrong.\n",
    "For example, if a number has 4 digits and is equal to the 4th (3rd power for 3-digit numbers) of each of its surroundings, this number is called the \"Armstrong\" number. 371 = (3^3)+(7^3)+(1^3),  1634 = (1^4)+(6^4)+(3^4)+(4^4)"
   ]
  },
  {
   "cell_type": "markdown",
   "metadata": {
    "id": "IJmNddbhS64g"
   },
   "source": [
    "**Write a program to find all the Armstrong numbers present in between two intervals in Python. For example, Armstrong numbers between 100 and 2000.**"
   ]
  },
  {
   "cell_type": "code",
   "execution_count": null,
   "metadata": {
    "colab": {
     "base_uri": "https://localhost:8080/"
    },
    "id": "imgUaF7tS64h",
    "outputId": "fc753be4-5615-4ea8-cc02-c30c53964992"
   },
   "outputs": [
    {
     "name": "stdout",
     "output_type": "stream",
     "text": [
      "100 2000\n",
      "153\n",
      "370\n",
      "371\n",
      "407\n",
      "1634\n"
     ]
    }
   ],
   "source": [
    "# let’s find a similar one to this question, friends.\n",
    "# write a program to find all the Armstrong numbers present in between two intervals in Python. For example, Armstrong numbers between 100 and 2000. Expected output:\n",
    "# 153\n",
    "# 370\n",
    "# 371\n",
    "# 407\n",
    "# 1634\n",
    "\n"
   ]
  },
  {
   "cell_type": "code",
   "execution_count": 11,
   "metadata": {},
   "outputs": [],
   "source": [
    "def is_armstrong(num):\n",
    "  num_as_str = str(num)\n",
    "  num_of_digits = len(num_as_str)\n",
    "  sum_of_powers = sum(int(digit)**num_of_digits for digit in num_as_str)\n",
    "  return sum_of_powers == num"
   ]
  },
  {
   "cell_type": "code",
   "execution_count": 12,
   "metadata": {},
   "outputs": [
    {
     "data": {
      "text/plain": [
       "False"
      ]
     },
     "execution_count": 12,
     "metadata": {},
     "output_type": "execute_result"
    }
   ],
   "source": [
    "is_armstrong(317)"
   ]
  },
  {
   "cell_type": "code",
   "execution_count": 13,
   "metadata": {},
   "outputs": [
    {
     "data": {
      "text/plain": [
       "True"
      ]
     },
     "execution_count": 13,
     "metadata": {},
     "output_type": "execute_result"
    }
   ],
   "source": [
    "is_armstrong(371)"
   ]
  },
  {
   "cell_type": "code",
   "execution_count": null,
   "metadata": {},
   "outputs": [],
   "source": []
  },
  {
   "cell_type": "code",
   "execution_count": 14,
   "metadata": {},
   "outputs": [
    {
     "name": "stdout",
     "output_type": "stream",
     "text": [
      "153\n",
      "370\n",
      "371\n",
      "407\n",
      "1634\n"
     ]
    }
   ],
   "source": [
    "for x in range(100, 2001):\n",
    "  if is_armstrong(x) == True:\n",
    "    print(x)"
   ]
  },
  {
   "cell_type": "markdown",
   "metadata": {
    "id": "wwG-io-lS64i"
   },
   "source": [
    "**Write a Python program which iterates the integers from 1 to 50. For multiples of three print \"Fizz\" instead of the number and for the multiples of five print \"Buzz\". For numbers which are multiples of both three and five print \"FizzBuzz\". Sample Output : fizzbuzz 1 2 fizz 4 buzz**"
   ]
  },
  {
   "cell_type": "code",
   "execution_count": 15,
   "metadata": {
    "id": "lU7sB3h4S64i"
   },
   "outputs": [
    {
     "name": "stdout",
     "output_type": "stream",
     "text": [
      "1\n",
      "2\n",
      "Fizz\n",
      "4\n",
      "Buzz\n",
      "Fizz\n",
      "7\n",
      "8\n",
      "Fizz\n",
      "Buzz\n",
      "11\n",
      "Fizz\n",
      "13\n",
      "14\n",
      "FizzBuzz\n",
      "16\n",
      "17\n",
      "Fizz\n",
      "19\n",
      "Buzz\n",
      "Fizz\n",
      "22\n",
      "23\n",
      "Fizz\n",
      "Buzz\n",
      "26\n",
      "Fizz\n",
      "28\n",
      "29\n",
      "FizzBuzz\n",
      "31\n",
      "32\n",
      "Fizz\n",
      "34\n",
      "Buzz\n",
      "Fizz\n",
      "37\n",
      "38\n",
      "Fizz\n",
      "Buzz\n",
      "41\n",
      "Fizz\n",
      "43\n",
      "44\n",
      "FizzBuzz\n",
      "46\n",
      "47\n",
      "Fizz\n",
      "49\n",
      "Buzz\n"
     ]
    }
   ],
   "source": [
    "for i in range(1,51):\n",
    "  if i%3 == 0 and i%5 == 0:\n",
    "    print(\"FizzBuzz\")\n",
    "  elif i%3 == 0:\n",
    "    print(\"Fizz\")\n",
    "  elif i%5 == 0:\n",
    "    print(\"Buzz\")\n",
    "  else:\n",
    "    print(i)"
   ]
  },
  {
   "cell_type": "code",
   "execution_count": null,
   "metadata": {
    "id": "ZgIViutnS64j"
   },
   "outputs": [],
   "source": [
    "#@title Write an algorithm that takes an array and moves all of the zeros to the end, preserving the order of the other elements."
   ]
  },
  {
   "cell_type": "code",
   "execution_count": null,
   "metadata": {
    "colab": {
     "base_uri": "https://localhost:8080/"
    },
    "id": "_GF-En3JS64k",
    "outputId": "db49f6a7-72c4-4040-afae-07f8b5a3e0c8"
   },
   "outputs": [
    {
     "name": "stdout",
     "output_type": "stream",
     "text": [
      "[1, 1, 2, 1, 3, 0, 0]\n"
     ]
    }
   ],
   "source": [
    "list1 = [1, 0, 1, 2, 0, 1, 3]\n"
   ]
  },
  {
   "cell_type": "code",
   "execution_count": 16,
   "metadata": {},
   "outputs": [
    {
     "name": "stdout",
     "output_type": "stream",
     "text": [
      "[1, 1, 2, 1, 3, 0, 0]\n"
     ]
    }
   ],
   "source": [
    "list1 = [1, 0, 1, 2, 0, 1, 3]\n",
    "zero_list = []\n",
    "for i in list(list1):\n",
    "  if i == 0:\n",
    "    list1.remove(i)\n",
    "    zero_list.append(i)\n",
    "print(list1 + zero_list)"
   ]
  },
  {
   "cell_type": "code",
   "execution_count": null,
   "metadata": {
    "id": "etfYdyx2S64m"
   },
   "outputs": [],
   "source": [
    "Exercise -95 :\n",
    "Given two strings, determine if they share a common substring. A substring may be as small as one character.\n",
    "Example\n",
    "s1 = \"and\"\n",
    "s2 = \"art\"\n",
    "These share the common substring  \"a\".\n",
    "s1= \"be\"\n",
    "s2= \"cat\"\n",
    "These do not share a substring.\n",
    "Returns\n",
    "string: either YES or NO\n",
    "\n",
    "Extra: Write a program that finds max common substring.\n",
    "\n",
    "\n",
    "\n"
   ]
  },
  {
   "cell_type": "code",
   "execution_count": 17,
   "metadata": {
    "id": "U5OgV_KhaotQ"
   },
   "outputs": [],
   "source": [
    "def shared(str1, str2):\n",
    "  for i in str1:\n",
    "    if i in str2:\n",
    "      return 'YES'\n",
    "  return 'NO'"
   ]
  },
  {
   "cell_type": "code",
   "execution_count": 18,
   "metadata": {},
   "outputs": [
    {
     "data": {
      "text/plain": [
       "'YES'"
      ]
     },
     "execution_count": 18,
     "metadata": {},
     "output_type": "execute_result"
    }
   ],
   "source": [
    "shared('and','art')"
   ]
  },
  {
   "cell_type": "code",
   "execution_count": 19,
   "metadata": {},
   "outputs": [
    {
     "data": {
      "text/plain": [
       "'NO'"
      ]
     },
     "execution_count": 19,
     "metadata": {},
     "output_type": "execute_result"
    }
   ],
   "source": [
    "shared('bee','cat')"
   ]
  },
  {
   "cell_type": "code",
   "execution_count": 18,
   "metadata": {},
   "outputs": [
    {
     "name": "stdout",
     "output_type": "stream",
     "text": [
      "Enter the first string: delete\n",
      "Enter the second string: concrete\n",
      "The longest common substring is: ete\n"
     ]
    }
   ],
   "source": [
    "def substring(str1, str2):\n",
    "    max_length = 0 #store max possible length of substring\n",
    "    end_point = 0 #store ending index\n",
    "    \n",
    "    for i in range(len(str1)):\n",
    "        for j in range(len(str2)): #for each i in str1 loop over j in str2\n",
    "            length = 0 #store running count of matches (i,j)\n",
    "            #compare i to j and store as long as we don't run out of bounds or characters no longer match\n",
    "            while (i + length < len(str1)) and (j + length < len(str2)) and (str1[i + length] == str2[j + length]):\n",
    "                length += 1 #length increases by 1 for each match\n",
    "                if length > max_length:\n",
    "                    max_length = length\n",
    "                    end_point = i + length #gives the index location of end of commonality\n",
    "    return str1[end_point - max_length: end_point]\n",
    "\n",
    "str1 = input(\"Enter the first string: \")\n",
    "str2 = input(\"Enter the second string: \")\n",
    "\n",
    "result = substring(str1, str2)\n",
    "print(f\"The longest common substring is: {result}\")         \n",
    "            \n",
    "            \n",
    " "
   ]
  },
  {
   "cell_type": "code",
   "execution_count": 20,
   "metadata": {},
   "outputs": [
    {
     "data": {
      "text/plain": [
       "'ellow'"
      ]
     },
     "execution_count": 20,
     "metadata": {},
     "output_type": "execute_result"
    }
   ],
   "source": [
    "substring('The car is yellow', 'I am feeling mellow')"
   ]
  },
  {
   "cell_type": "code",
   "execution_count": 21,
   "metadata": {},
   "outputs": [
    {
     "data": {
      "text/plain": [
       "' these strings match?'"
      ]
     },
     "execution_count": 21,
     "metadata": {},
     "output_type": "execute_result"
    }
   ],
   "source": [
    "substring(\"Do these strings match?\", \"Why don't these strings match?\")"
   ]
  },
  {
   "cell_type": "code",
   "execution_count": null,
   "metadata": {},
   "outputs": [],
   "source": []
  }
 ],
 "metadata": {
  "colab": {
   "provenance": []
  },
  "kernelspec": {
   "display_name": "Python 3 (ipykernel)",
   "language": "python",
   "name": "python3"
  },
  "language_info": {
   "codemirror_mode": {
    "name": "ipython",
    "version": 3
   },
   "file_extension": ".py",
   "mimetype": "text/x-python",
   "name": "python",
   "nbconvert_exporter": "python",
   "pygments_lexer": "ipython3",
   "version": "3.9.19"
  }
 },
 "nbformat": 4,
 "nbformat_minor": 1
}
