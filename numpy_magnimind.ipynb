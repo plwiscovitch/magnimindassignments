{
 "cells": [
  {
   "cell_type": "markdown",
   "id": "edaa3741",
   "metadata": {},
   "source": [
    "1- Create three lists representing house features, each list containing ten values. The first one for the house's size in square meters, the second one for rooms and last for price. Then, create an array combining these lists."
   ]
  },
  {
   "cell_type": "code",
   "execution_count": 1,
   "id": "d5a2a38f",
   "metadata": {},
   "outputs": [],
   "source": [
    "import numpy as np"
   ]
  },
  {
   "cell_type": "code",
   "execution_count": 2,
   "id": "a63bcf66",
   "metadata": {},
   "outputs": [
    {
     "name": "stdout",
     "output_type": "stream",
     "text": [
      "[[   148    160    175    190    188    220    213    202    198    209]\n",
      " [     3      4      2      1      3      3      2      2      4      5]\n",
      " [150000 250000 160000 125000 170000 180000 200000 220000 280000 300000]]\n"
     ]
    }
   ],
   "source": [
    "sqmeters = [148, 160, 175, 190, 188, 220, 213, 202, 198, 209]\n",
    "rooms = [3, 4, 2, 1, 3, 3, 2, 2, 4, 5]\n",
    "price = [150000, 250000, 160000, 125000, 170000, 180000, 200000, 220000, 280000, 300000]\n",
    "\n",
    "house_array = np.array((sqmeters, rooms, price))\n",
    "print(house_array)"
   ]
  },
  {
   "cell_type": "markdown",
   "id": "a6ba856b",
   "metadata": {},
   "source": [
    "2- Transpose the array you have created, so that every line can represent features of one house."
   ]
  },
  {
   "cell_type": "code",
   "execution_count": 3,
   "id": "2507f459",
   "metadata": {},
   "outputs": [
    {
     "name": "stdout",
     "output_type": "stream",
     "text": [
      "[[   148      3 150000]\n",
      " [   160      4 250000]\n",
      " [   175      2 160000]\n",
      " [   190      1 125000]\n",
      " [   188      3 170000]\n",
      " [   220      3 180000]\n",
      " [   213      2 200000]\n",
      " [   202      2 220000]\n",
      " [   198      4 280000]\n",
      " [   209      5 300000]]\n"
     ]
    }
   ],
   "source": [
    "house_features = house_array.transpose()\n",
    "print(house_features)"
   ]
  },
  {
   "cell_type": "markdown",
   "id": "19ad80b4",
   "metadata": {},
   "source": [
    "3- Display the shape of the array and explain what it means."
   ]
  },
  {
   "cell_type": "code",
   "execution_count": 4,
   "id": "21ad53b2",
   "metadata": {},
   "outputs": [
    {
     "name": "stdout",
     "output_type": "stream",
     "text": [
      "(10, 3)\n"
     ]
    }
   ],
   "source": [
    "print(house_features.shape)"
   ]
  },
  {
   "cell_type": "markdown",
   "id": "3e157d0a",
   "metadata": {},
   "source": [
    ".shape returns a tuple of (number of rows, number of columns) in the array. So, the house_features array has 10 rows and 3 columns."
   ]
  },
  {
   "cell_type": "markdown",
   "id": "b2cdd1f2",
   "metadata": {},
   "source": [
    "4- Load the Earthquakes dataset. Export the dataset to an array as you covered in the previous lesson."
   ]
  },
  {
   "cell_type": "code",
   "execution_count": 7,
   "id": "39b76efc",
   "metadata": {},
   "outputs": [],
   "source": [
    "import os"
   ]
  },
  {
   "cell_type": "code",
   "execution_count": 8,
   "id": "bc305496",
   "metadata": {},
   "outputs": [
    {
     "data": {
      "text/plain": [
       "'C:\\\\Users\\\\plw40'"
      ]
     },
     "execution_count": 8,
     "metadata": {},
     "output_type": "execute_result"
    }
   ],
   "source": [
    "os.getcwd()"
   ]
  },
  {
   "cell_type": "code",
   "execution_count": 16,
   "id": "40beef21",
   "metadata": {},
   "outputs": [],
   "source": [
    "os.chdir('C:\\\\Users\\\\plw40\\\\Downloads\\\\Datasets-20240611')"
   ]
  },
  {
   "cell_type": "code",
   "execution_count": 39,
   "id": "43db7a7b",
   "metadata": {},
   "outputs": [],
   "source": [
    "import csv"
   ]
  },
  {
   "cell_type": "code",
   "execution_count": 41,
   "id": "63fd02d2",
   "metadata": {},
   "outputs": [],
   "source": [
    "with open(\"C:\\\\Users\\\\plw40\\\\Downloads\\\\Datasets-20240611\\\\earthquakes1970-2014.csv\", 'r') as f:\n",
    "    reader = csv.reader(f)\n",
    "    data = list(reader)"
   ]
  },
  {
   "cell_type": "code",
   "execution_count": 42,
   "id": "17d8dcf5",
   "metadata": {},
   "outputs": [],
   "source": [
    "earthquakes = np.array(data)"
   ]
  },
  {
   "cell_type": "markdown",
   "id": "f31cca07",
   "metadata": {},
   "source": [
    "5- Slice first 20 rows and column numbers 3, 5, 6, 7, 12. Then, assign the array you sliced to a variable."
   ]
  },
  {
   "cell_type": "code",
   "execution_count": 43,
   "id": "e804e464",
   "metadata": {},
   "outputs": [
    {
     "name": "stdout",
     "output_type": "stream",
     "text": [
      "(5305, 12)\n"
     ]
    }
   ],
   "source": [
    "print(earthquakes.shape)"
   ]
  },
  {
   "cell_type": "code",
   "execution_count": 44,
   "id": "8d54bdfd",
   "metadata": {},
   "outputs": [
    {
     "data": {
      "text/plain": [
       "array([['Longitude', 'Magnitude', 'MagType', 'NbStations', 'EventID'],\n",
       "       ['102.503000000000000', '7.50', 'Ms', '90', '1970010440'],\n",
       "       ['151.458000000000000', '6.20', 'Ms', '85', '1970010640'],\n",
       "       ['178.568000000000000', '6.10', 'Mb', '59', '1970010840'],\n",
       "       ['126.736999999999000', '6.10', 'Mb', '91', '1970011040'],\n",
       "       ['-152.660000000000000', '6.00', 'ML', '0', ''],\n",
       "       ['-177.348999999999000', '6.50', 'Mb', '175', '1970012040'],\n",
       "       ['142.966000000000000', '6.40', 'Ms', '199', '1970012040'],\n",
       "       ['-104.298000000000000', '6.60', 'Ms', '140', '1970012140'],\n",
       "       ['166.370000000000000', '6.40', 'Ms', '91', '1970012640'],\n",
       "       ['-99.483999999999900', '6.50', 'Ms', '100', '1970020440'],\n",
       "       ['122.117000000000000', '6.60', 'Ms', '94', '1970020540'],\n",
       "       ['100.775000000000000', '6.10', 'Ms', '57', '1970020640'],\n",
       "       ['103.031000000000000', '6.00', 'Ms', '94', '1970022440'],\n",
       "       ['-179.589800000000000', '6.00', 'ML', '0', ''],\n",
       "       ['-175.039999999999000', '6.10', 'ML', '0', ''],\n",
       "       ['143.706999999999000', '6.20', 'Ms', '82', '1970030440'],\n",
       "       ['168.603000000000000', '6.50', 'Ms', '61', '1970030940'],\n",
       "       ['148.870000000000000', '6.00', 'Mb', '65', '1970031040'],\n",
       "       ['-153.970000000000000', '6.50', 'ML', '0', '']], dtype='<U22')"
      ]
     },
     "metadata": {},
     "output_type": "display_data"
    }
   ],
   "source": [
    "cols = [2,4,5,6,11] #index location is column number-1 bc index starts at 0\n",
    "eq_slice = earthquakes[:20, cols]\n",
    "display(eq_slice)\n"
   ]
  },
  {
   "cell_type": "code",
   "execution_count": 45,
   "id": "02f6fc19",
   "metadata": {},
   "outputs": [
    {
     "name": "stdout",
     "output_type": "stream",
     "text": [
      "(20, 5)\n"
     ]
    }
   ],
   "source": [
    "print(eq_slice.shape) #check shape"
   ]
  },
  {
   "cell_type": "code",
   "execution_count": 46,
   "id": "deb88c7a",
   "metadata": {},
   "outputs": [
    {
     "name": "stdout",
     "output_type": "stream",
     "text": [
      "['DateTime' 'Latitude' 'Longitude' 'Depth' 'Magnitude' 'MagType'\n",
      " 'NbStations' 'Gap' 'Distance' 'RMS' 'Source' 'EventID']\n"
     ]
    }
   ],
   "source": [
    "print(earthquakes[0,])"
   ]
  },
  {
   "cell_type": "markdown",
   "id": "7c44c39f",
   "metadata": {},
   "source": [
    "6- Display the row numbers where last? (magnitude?) values are equal to 4.5 or higher."
   ]
  },
  {
   "cell_type": "code",
   "execution_count": null,
   "id": "f137246d",
   "metadata": {},
   "outputs": [],
   "source": []
  }
 ],
 "metadata": {
  "kernelspec": {
   "display_name": "Python 3 (ipykernel)",
   "language": "python",
   "name": "python3"
  },
  "language_info": {
   "codemirror_mode": {
    "name": "ipython",
    "version": 3
   },
   "file_extension": ".py",
   "mimetype": "text/x-python",
   "name": "python",
   "nbconvert_exporter": "python",
   "pygments_lexer": "ipython3",
   "version": "3.9.19"
  }
 },
 "nbformat": 4,
 "nbformat_minor": 5
}
