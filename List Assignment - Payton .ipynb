{
 "cells": [
  {
   "cell_type": "markdown",
   "id": "e6a516a8",
   "metadata": {},
   "source": [
    "# List Assignment - Payton Wiscovitch"
   ]
  },
  {
   "cell_type": "code",
   "execution_count": 1,
   "id": "139401b7",
   "metadata": {},
   "outputs": [],
   "source": [
    "# Question 1: Write a code to compute the sum of the two lowest numbers and the two highest numbers in the following list"
   ]
  },
  {
   "cell_type": "code",
   "execution_count": 2,
   "id": "f227622b",
   "metadata": {},
   "outputs": [],
   "source": [
    "my_list = [34, 56, 76, 45, 2, 12, 67, 98, 37, 54, 66]"
   ]
  },
  {
   "cell_type": "code",
   "execution_count": 3,
   "id": "4da7460e",
   "metadata": {},
   "outputs": [],
   "source": [
    "my_list.sort()"
   ]
  },
  {
   "cell_type": "code",
   "execution_count": 4,
   "id": "c2645d68",
   "metadata": {},
   "outputs": [
    {
     "data": {
      "text/plain": [
       "[2, 12, 34, 37, 45, 54, 56, 66, 67, 76, 98]"
      ]
     },
     "execution_count": 4,
     "metadata": {},
     "output_type": "execute_result"
    }
   ],
   "source": [
    "my_list"
   ]
  },
  {
   "cell_type": "code",
   "execution_count": 6,
   "id": "13add8f9",
   "metadata": {},
   "outputs": [],
   "source": [
    "sum_lowest = my_list[0]+my_list[1]"
   ]
  },
  {
   "cell_type": "code",
   "execution_count": 7,
   "id": "5b22c98a",
   "metadata": {},
   "outputs": [
    {
     "data": {
      "text/plain": [
       "14"
      ]
     },
     "execution_count": 7,
     "metadata": {},
     "output_type": "execute_result"
    }
   ],
   "source": [
    "sum_lowest"
   ]
  },
  {
   "cell_type": "code",
   "execution_count": 8,
   "id": "dbc734bd",
   "metadata": {},
   "outputs": [],
   "source": [
    "sum_highest = my_list[-1]+my_list[-2]"
   ]
  },
  {
   "cell_type": "code",
   "execution_count": 9,
   "id": "135f3a2b",
   "metadata": {},
   "outputs": [
    {
     "data": {
      "text/plain": [
       "174"
      ]
     },
     "execution_count": 9,
     "metadata": {},
     "output_type": "execute_result"
    }
   ],
   "source": [
    "sum_highest"
   ]
  },
  {
   "cell_type": "code",
   "execution_count": 11,
   "id": "ec6110e0",
   "metadata": {},
   "outputs": [],
   "source": [
    "# Question 2: Write a code that gets the name from the user and prints the score of that student"
   ]
  },
  {
   "cell_type": "code",
   "execution_count": 13,
   "id": "45efa026",
   "metadata": {},
   "outputs": [],
   "source": [
    "names = [\"David\", \"Michael\", \"John\", \"Greg\", \"Mark\", \"William\", \"Richard\", \"Thomas\", \"Steven\", \n",
    "         \"Mary\", \"Susan\", \"Maria\", \"Karen\", \"Lisa\", \"Linda\", \"Donna\", \"Patricia\", \"Debra\", \"Eric\"]\n"
   ]
  },
  {
   "cell_type": "code",
   "execution_count": 14,
   "id": "08671c22",
   "metadata": {},
   "outputs": [],
   "source": [
    "scores = [99, 87, 78, 86, 68, 94, 76, 97, 56, 98, 76, 87, 79, 90, 73, 93, 82, 69, 97, 98]"
   ]
  },
  {
   "cell_type": "code",
   "execution_count": 17,
   "id": "d1b05691",
   "metadata": {},
   "outputs": [
    {
     "name": "stdout",
     "output_type": "stream",
     "text": [
      "Enter student name: Maria\n"
     ]
    }
   ],
   "source": [
    "# Get user input for name\n",
    "name_input = input(\"Enter student name: \")"
   ]
  },
  {
   "cell_type": "code",
   "execution_count": 19,
   "id": "bd11b797",
   "metadata": {},
   "outputs": [
    {
     "name": "stdout",
     "output_type": "stream",
     "text": [
      "Enter student name: Maria\n",
      "The score for Maria is: 87\n"
     ]
    }
   ],
   "source": [
    "# Get user input for name\n",
    "name_input = input(\"Enter student name: \")\n",
    "# If name is in list then return associated score\n",
    "if name_input in names:\n",
    "    # find the index of the name in the names list\n",
    "    index = names.index(name_input)\n",
    "    # get the corresponding score from scores list\n",
    "    score = scores[index]\n",
    "    print(f\"The score for {name_input} is: {score}\")\n",
    "else:\n",
    "    print(\"Name not found. Try again.\")"
   ]
  },
  {
   "cell_type": "code",
   "execution_count": 22,
   "id": "2b49582f",
   "metadata": {},
   "outputs": [
    {
     "name": "stdout",
     "output_type": "stream",
     "text": [
      "99\n"
     ]
    }
   ],
   "source": [
    "# finding the highest score\n",
    "highest_score = max(scores)\n",
    "print(highest_score)"
   ]
  },
  {
   "cell_type": "code",
   "execution_count": 24,
   "id": "1adf1a58",
   "metadata": {},
   "outputs": [
    {
     "data": {
      "text/plain": [
       "1"
      ]
     },
     "execution_count": 24,
     "metadata": {},
     "output_type": "execute_result"
    }
   ],
   "source": [
    "scores.count(highest_score) #counting how many students got the highest score"
   ]
  },
  {
   "cell_type": "code",
   "execution_count": null,
   "id": "ad7d8862",
   "metadata": {},
   "outputs": [],
   "source": []
  }
 ],
 "metadata": {
  "kernelspec": {
   "display_name": "Python 3 (ipykernel)",
   "language": "python",
   "name": "python3"
  },
  "language_info": {
   "codemirror_mode": {
    "name": "ipython",
    "version": 3
   },
   "file_extension": ".py",
   "mimetype": "text/x-python",
   "name": "python",
   "nbconvert_exporter": "python",
   "pygments_lexer": "ipython3",
   "version": "3.9.19"
  }
 },
 "nbformat": 4,
 "nbformat_minor": 5
}
