{
 "cells": [
  {
   "cell_type": "markdown",
   "id": "6f67e5e0",
   "metadata": {},
   "source": [
    "Create a program that will compare new user names to current user names. User names should be case insensitive so that if the name matches regardless of capitalization two of the same names will not be allowed. "
   ]
  },
  {
   "cell_type": "code",
   "execution_count": 1,
   "id": "62aeb325",
   "metadata": {},
   "outputs": [
    {
     "name": "stdout",
     "output_type": "stream",
     "text": [
      "User name player2 available.\n",
      "User name thegoat already in use. Please enter a new user name.\n",
      "User name prince available.\n",
      "User name darthvader available.\n",
      "User name numberwon already in use. Please enter a new user name.\n"
     ]
    }
   ],
   "source": [
    "current_user = ['player1', 'theGOAT', 'theking', 'MVP', 'numberWON']\n",
    "new_user = ['player2', 'thegoat', 'Prince', 'DarthVader', 'numberwon']\n",
    "current_user_lower = [name.lower() for name in current_user]\n",
    "new_user_lower = [name.lower() for name in new_user]\n",
    "\n",
    "for name in new_user_lower:\n",
    "    if name in current_user_lower:\n",
    "        print(f\"User name {name} already in use. Please enter a new user name.\")\n",
    "    else:\n",
    "        print(f\"User name {name} available.\")"
   ]
  },
  {
   "cell_type": "markdown",
   "id": "9438804e",
   "metadata": {},
   "source": [
    "You are playing a game with your friend. Within a bag there are marbles that are the following marbles:\n",
    "1 : red, smooth\n",
    "4 : red, bumpy\n",
    "1 : yellow, smooth\n",
    "2 : yellow, bumpy\n",
    "1 : green, smooth\n",
    "1 : green, bumpy\n",
    "\n",
    "Your friend puts their hand in the bag and tells you whether the marble is bumpy or smooth. From this information you know the probabilty of pulling a specific color of that texture changes. Write a program that will return the probability of pulling a given marble of (color, texture)."
   ]
  },
  {
   "cell_type": "code",
   "execution_count": 2,
   "id": "b816ce31",
   "metadata": {},
   "outputs": [],
   "source": [
    "def color_probability(color, texture):\n",
    "    smooth = ['red', 'yellow', 'green']\n",
    "    bumpy = ['red','red','red','red','yellow', 'yellow', 'green']\n",
    "    if texture == 'smooth':\n",
    "        if color == 'red':\n",
    "            prob = smooth.count('red')/len(smooth)\n",
    "        elif color == 'yellow':\n",
    "            prob = smooth.count('yellow')/len(smooth)\n",
    "        else:\n",
    "            prob = smooth.count('green')/len(smooth)\n",
    "    else:\n",
    "        if color == 'red':\n",
    "            prob = bumpy.count('red')/len(bumpy)\n",
    "        elif color == 'yellow':\n",
    "            prob = bumpy.count('yellow')/len(bumpy)\n",
    "        else:\n",
    "            prob = bumpy.count('green')/len(bumpy)\n",
    "            \n",
    "    prob_as_str = \"{:.2f}\".format(prob)\n",
    "    return prob_as_str"
   ]
  },
  {
   "cell_type": "code",
   "execution_count": 3,
   "id": "052c4b40",
   "metadata": {},
   "outputs": [
    {
     "data": {
      "text/plain": [
       "'0.57'"
      ]
     },
     "execution_count": 3,
     "metadata": {},
     "output_type": "execute_result"
    }
   ],
   "source": [
    "color_probability('red','bumpy')"
   ]
  },
  {
   "cell_type": "code",
   "execution_count": 4,
   "id": "940ed69d",
   "metadata": {},
   "outputs": [
    {
     "data": {
      "text/plain": [
       "'0.33'"
      ]
     },
     "execution_count": 4,
     "metadata": {},
     "output_type": "execute_result"
    }
   ],
   "source": [
    "color_probability('green','smooth')"
   ]
  },
  {
   "cell_type": "markdown",
   "id": "2347d973",
   "metadata": {},
   "source": [
    "Write an if-elif-else chain that determines a person’s stage of life.\n",
    "\n",
    "Set a value for the variable age, and then:\n",
    "\n",
    "If the person is less than 2 years old, print a message that the person is a baby.\n",
    "\n",
    "If the person is at least 2 years old but less than 4, print a message that the person is a toddler.\n",
    "\n",
    "If the person is at least 4 years old but less than 13, print a message that the person is a kid.\n",
    "\n",
    "If the person is at least 13 years old but less than 20, print a message that the person is a teenager.\n",
    "\n",
    "If the person is at least 20 years old but less than 65, print a message that the person is an adult.\n",
    "\n",
    "If the person is age 65 or older, print a message that the person is an elder."
   ]
  },
  {
   "cell_type": "code",
   "execution_count": 5,
   "id": "36bba766",
   "metadata": {},
   "outputs": [
    {
     "name": "stdout",
     "output_type": "stream",
     "text": [
      "To determine stage of life, enter age: 3\n",
      "You are a toddler.\n"
     ]
    }
   ],
   "source": [
    "# Determine Stage of life using if-elif-else statements\n",
    "age = int((input(\"To determine stage of life, enter age: \")))\n",
    "\n",
    "if age < 2:\n",
    "  print(\"You are a baby.\")\n",
    "elif age >= 2 and age < 4:\n",
    "  print(\"You are a toddler.\")\n",
    "elif age >= 4 and age < 13:\n",
    "  print(\"You are a kid.\")\n",
    "elif age >= 13 and age < 20:\n",
    "  print(\"You are a teenager\")\n",
    "elif age >= 20 and age < 65:\n",
    "  print(\"You are an adult.\")\n",
    "else:\n",
    "  print(\"You are an elder.\")"
   ]
  },
  {
   "cell_type": "code",
   "execution_count": null,
   "id": "8dcd5a4e",
   "metadata": {},
   "outputs": [],
   "source": []
  }
 ],
 "metadata": {
  "kernelspec": {
   "display_name": "Python 3 (ipykernel)",
   "language": "python",
   "name": "python3"
  },
  "language_info": {
   "codemirror_mode": {
    "name": "ipython",
    "version": 3
   },
   "file_extension": ".py",
   "mimetype": "text/x-python",
   "name": "python",
   "nbconvert_exporter": "python",
   "pygments_lexer": "ipython3",
   "version": "3.9.19"
  }
 },
 "nbformat": 4,
 "nbformat_minor": 5
}
