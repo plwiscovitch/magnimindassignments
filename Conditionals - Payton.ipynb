{
 "cells": [
  {
   "cell_type": "markdown",
   "id": "8beb971d",
   "metadata": {},
   "source": [
    "# Conditional Statements - Payton Wiscovitch"
   ]
  },
  {
   "cell_type": "code",
   "execution_count": 2,
   "id": "166a8796",
   "metadata": {},
   "outputs": [
    {
     "name": "stdout",
     "output_type": "stream",
     "text": [
      "Enter a number between 10 and 20: 10\n",
      "Thank you\n"
     ]
    }
   ],
   "source": [
    "# Question 1:\n",
    "user_input = int(input(\"Enter a number between 10 and 20: \"))\n",
    "if user_input >= 10 and user_input <= 20:\n",
    "    print(\"Thank you\")\n",
    "else:\n",
    "    print(\"Incorrect answer\")"
   ]
  },
  {
   "cell_type": "code",
   "execution_count": 3,
   "id": "240aab20",
   "metadata": {},
   "outputs": [
    {
     "name": "stdout",
     "output_type": "stream",
     "text": [
      "Enter a letter from a-z: y\n",
      " Your letter is sometimes a vowel and sometimes a consonant.\n"
     ]
    }
   ],
   "source": [
    "vowels = ['a', 'e', 'i', 'o', 'u']\n",
    "letter = input(\"Enter a letter from a-z: \")\n",
    "if letter in vowels:\n",
    "    print(\"Your letter is a vowel.\")\n",
    "elif letter == 'y':\n",
    "    print(\" Your letter is sometimes a vowel and sometimes a consonant.\")\n",
    "else:\n",
    "    print(\"Your letter is a consonant.\")"
   ]
  },
  {
   "cell_type": "code",
   "execution_count": 4,
   "id": "ac794d4c",
   "metadata": {},
   "outputs": [
    {
     "name": "stdout",
     "output_type": "stream",
     "text": [
      "Enter a letter from a-z: a\n",
      "Your letter is a vowel.\n"
     ]
    }
   ],
   "source": [
    "vowels = ['a', 'e', 'i', 'o', 'u']\n",
    "letter = input(\"Enter a letter from a-z: \")\n",
    "if letter in vowels:\n",
    "    print(\"Your letter is a vowel.\")\n",
    "elif letter == 'y':\n",
    "    print(\" Your letter is sometimes a vowel and sometimes a consonant.\")\n",
    "else:\n",
    "    print(\"Your letter is a consonant.\")"
   ]
  },
  {
   "cell_type": "code",
   "execution_count": 5,
   "id": "e5afcf35",
   "metadata": {},
   "outputs": [
    {
     "name": "stdout",
     "output_type": "stream",
     "text": [
      "Enter a letter from a-z: b\n",
      "Your letter is a consonant.\n"
     ]
    }
   ],
   "source": [
    "vowels = ['a', 'e', 'i', 'o', 'u']\n",
    "letter = input(\"Enter a letter from a-z: \")\n",
    "if letter in vowels:\n",
    "    print(\"Your letter is a vowel.\")\n",
    "elif letter == 'y':\n",
    "    print(\" Your letter is sometimes a vowel and sometimes a consonant.\")\n",
    "else:\n",
    "    print(\"Your letter is a consonant.\")"
   ]
  },
  {
   "cell_type": "markdown",
   "id": "39d12310",
   "metadata": {},
   "source": [
    "Extra Problems:\n",
    "1. Write a Python program to find those numbers which are divisible by 7 and multiples of 5, between 1500 and 2700 (both included). \n",
    "\n",
    "2. "
   ]
  },
  {
   "cell_type": "code",
   "execution_count": 14,
   "id": "ff9615c7",
   "metadata": {},
   "outputs": [
    {
     "name": "stdout",
     "output_type": "stream",
     "text": [
      "1505\n",
      "1540\n",
      "1575\n",
      "1610\n",
      "1645\n",
      "1680\n",
      "1715\n",
      "1750\n",
      "1785\n",
      "1820\n",
      "1855\n",
      "1890\n",
      "1925\n",
      "1960\n",
      "1995\n",
      "2030\n",
      "2065\n",
      "2100\n",
      "2135\n",
      "2170\n",
      "2205\n",
      "2240\n",
      "2275\n",
      "2310\n",
      "2345\n",
      "2380\n",
      "2415\n",
      "2450\n",
      "2485\n",
      "2520\n",
      "2555\n",
      "2590\n",
      "2625\n",
      "2660\n",
      "2695\n"
     ]
    }
   ],
   "source": [
    "for x in range(1500,2701):\n",
    "    if x % 7 == 0 and x % 5 == 0:\n",
    "        print(x)\n",
    "            \n",
    "        \n",
    "\n",
    "    "
   ]
  },
  {
   "cell_type": "code",
   "execution_count": 1,
   "id": "7a116738",
   "metadata": {},
   "outputs": [
    {
     "name": "stdout",
     "output_type": "stream",
     "text": [
      "red\n",
      "blue\n",
      "green\n"
     ]
    }
   ],
   "source": [
    "## For Loops\n",
    "colors = ['red', 'blue', 'green']\n",
    "for x in colors:\n",
    "    print(x)"
   ]
  },
  {
   "cell_type": "code",
   "execution_count": 2,
   "id": "00c89f82",
   "metadata": {},
   "outputs": [
    {
     "name": "stdout",
     "output_type": "stream",
     "text": [
      "red\n",
      "blue\n"
     ]
    }
   ],
   "source": [
    "# break: stops for loop at a defined point\n",
    "for x in colors:\n",
    "    print(x)\n",
    "    if x == 'blue':\n",
    "        break"
   ]
  },
  {
   "cell_type": "code",
   "execution_count": 4,
   "id": "d2f122b2",
   "metadata": {},
   "outputs": [
    {
     "name": "stdout",
     "output_type": "stream",
     "text": [
      "red\n",
      "green\n"
     ]
    }
   ],
   "source": [
    "# continue: will stop and restart the for loop at and after a defined point\n",
    "for x in colors:\n",
    "    if x == 'blue':\n",
    "        continue\n",
    "    print(x)"
   ]
  },
  {
   "cell_type": "code",
   "execution_count": 5,
   "id": "f5eb4e34",
   "metadata": {},
   "outputs": [
    {
     "name": "stdout",
     "output_type": "stream",
     "text": [
      "0\n",
      "1\n",
      "2\n",
      "3\n",
      "4\n",
      "5\n",
      "6\n",
      "7\n",
      "8\n",
      "9\n",
      "10\n",
      "11\n"
     ]
    }
   ],
   "source": [
    "# range: use for loop a specified # of times\n",
    "for x in range(12):\n",
    "    print (x)"
   ]
  },
  {
   "cell_type": "code",
   "execution_count": 6,
   "id": "a7d50843",
   "metadata": {},
   "outputs": [
    {
     "name": "stdout",
     "output_type": "stream",
     "text": [
      "3\n",
      "6\n",
      "9\n",
      "12\n",
      "15\n",
      "18\n",
      "21\n",
      "24\n",
      "27\n"
     ]
    }
   ],
   "source": [
    "# range can be used to define starting and stopping points we can even define (start, stop, step)\n",
    "# important to not that 'stop/end' of range will not be included in range!\n",
    "for x in range(3, 30, 3):\n",
    "    print (x)"
   ]
  },
  {
   "cell_type": "code",
   "execution_count": 7,
   "id": "f6692278",
   "metadata": {},
   "outputs": [
    {
     "name": "stdout",
     "output_type": "stream",
     "text": [
      "1061\n"
     ]
    }
   ],
   "source": [
    "# put it all together find sum of prime numbers between 1-100\n",
    "sum_of_primes=0\n",
    "for x in range(1,101):\n",
    "    count=0    \n",
    "    if x<=2:\n",
    "        sum_of_primes+=x        \n",
    "    elif x%2!=0:\n",
    "        for y in range(2,x//2):\n",
    "            if (x%y)==0:\n",
    "                count+=1\n",
    "        if count==0:\n",
    "            sum_of_primes+=x\n",
    "print(sum_of_primes)"
   ]
  },
  {
   "cell_type": "code",
   "execution_count": 20,
   "id": "bfff39cd",
   "metadata": {},
   "outputs": [
    {
     "name": "stdout",
     "output_type": "stream",
     "text": [
      "User name player2 available.\n",
      "User name thegoat already in use. Please enter a new user name.\n",
      "User name prince available.\n",
      "User name darthvader available.\n",
      "User name numberwon already in use. Please enter a new user name.\n"
     ]
    }
   ],
   "source": [
    "# create a program to ensure unique username\n",
    "# create a current_user list with 5 or more user names\n",
    "# create a new_user list with some new names and some that are duplicates from current_user\n",
    "# loop through the new_user list: if username is already in use return \"User name taken enter new:\"\n",
    "# if user name is not in use return \"user name is available\"\n",
    "# make sure comparison is not case sensitive for example john == JOHN regardless of case .lower()\n",
    "\n",
    "current_user = ['player1', 'theGOAT', 'theking', 'MVP', 'numberWON']\n",
    "new_user = ['player2', 'thegoat', 'Prince', 'DarthVader', 'numberwon']\n",
    "current_user_lower = [name.lower() for name in current_user]\n",
    "new_user_lower = [name.lower() for name in new_user]\n",
    "\n",
    "for name in new_user_lower:\n",
    "    if name in current_user_lower:\n",
    "        print(f\"User name {name} already in use. Please enter a new user name.\")\n",
    "    else:\n",
    "        print(f\"User name {name} available.\")\n"
   ]
  },
  {
   "cell_type": "code",
   "execution_count": 21,
   "id": "7061a5a9",
   "metadata": {},
   "outputs": [],
   "source": [
    "# Ask Necip if there is a better way to check without converting to lower first?"
   ]
  },
  {
   "cell_type": "code",
   "execution_count": 1,
   "id": "b0526d7d",
   "metadata": {},
   "outputs": [],
   "source": [
    "# color probability\n",
    "smooth = ['red', 'yellow', 'green']\n",
    "bumpy = ['red','red','red','red','yellow', 'yellow', 'green']"
   ]
  },
  {
   "cell_type": "code",
   "execution_count": 4,
   "id": "136b8751",
   "metadata": {},
   "outputs": [],
   "source": [
    "def color_probability(color, texture):\n",
    "    if texture == 'smooth':\n",
    "        if color == 'red':\n",
    "            prob = smooth.count('red')/len(smooth)\n",
    "        elif color == 'yellow':\n",
    "            prob = smooth.count('yellow')/len(smooth)\n",
    "        else:\n",
    "            prob = smooth.count('green')/len(smooth)\n",
    "    else:\n",
    "        if color == 'red':\n",
    "            prob = bumpy.count('red')/len(bumpy)\n",
    "        elif color == 'yellow':\n",
    "            prob = bumpy.count('yellow')/len(bumpy)\n",
    "        else:\n",
    "            prob = bumpy.count('green')/len(bumpy)\n",
    "            \n",
    "    prob_as_str = \"{:.2f}\".format(prob)\n",
    "    return prob_as_str"
   ]
  },
  {
   "cell_type": "code",
   "execution_count": 5,
   "id": "6cbfb13a",
   "metadata": {},
   "outputs": [
    {
     "data": {
      "text/plain": [
       "'0.57'"
      ]
     },
     "execution_count": 5,
     "metadata": {},
     "output_type": "execute_result"
    }
   ],
   "source": [
    "color_probability('red','bumpy')"
   ]
  },
  {
   "cell_type": "code",
   "execution_count": 6,
   "id": "97145a5a",
   "metadata": {},
   "outputs": [
    {
     "data": {
      "text/plain": [
       "'0.33'"
      ]
     },
     "execution_count": 6,
     "metadata": {},
     "output_type": "execute_result"
    }
   ],
   "source": [
    "color_probability('green','smooth')"
   ]
  },
  {
   "cell_type": "code",
   "execution_count": 7,
   "id": "44cdee51",
   "metadata": {},
   "outputs": [
    {
     "name": "stdout",
     "output_type": "stream",
     "text": [
      "To determine stage of life, enter age: 3\n",
      "You are a toddler.\n"
     ]
    }
   ],
   "source": [
    "# Determine Stage of life using if-elif-else statements\n",
    "age = int((input(\"To determine stage of life, enter age: \")))\n",
    "\n",
    "if age < 2:\n",
    "  print(\"You are a baby.\")\n",
    "elif age >= 2 and age < 4:\n",
    "  print(\"You are a toddler.\")\n",
    "elif age >= 4 and age < 13:\n",
    "  print(\"You are a kid.\")\n",
    "elif age >= 13 and age < 20:\n",
    "  print(\"You are a teenager\")\n",
    "elif age >= 20 and age < 65:\n",
    "  print(\"You are an adult.\")\n",
    "else:\n",
    "  print(\"You are an elder.\")"
   ]
  },
  {
   "cell_type": "code",
   "execution_count": null,
   "id": "81ced2a6",
   "metadata": {},
   "outputs": [],
   "source": []
  }
 ],
 "metadata": {
  "kernelspec": {
   "display_name": "Python 3 (ipykernel)",
   "language": "python",
   "name": "python3"
  },
  "language_info": {
   "codemirror_mode": {
    "name": "ipython",
    "version": 3
   },
   "file_extension": ".py",
   "mimetype": "text/x-python",
   "name": "python",
   "nbconvert_exporter": "python",
   "pygments_lexer": "ipython3",
   "version": "3.9.19"
  }
 },
 "nbformat": 4,
 "nbformat_minor": 5
}
