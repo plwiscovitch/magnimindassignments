{
 "cells": [
  {
   "cell_type": "markdown",
   "id": "260d5e80",
   "metadata": {},
   "source": [
    "# String Assignment - Payton Wiscovitch"
   ]
  },
  {
   "cell_type": "code",
   "execution_count": 1,
   "id": "3d4f745f",
   "metadata": {},
   "outputs": [
    {
     "name": "stdout",
     "output_type": "stream",
     "text": [
      "Payton Wiscovitch\n"
     ]
    }
   ],
   "source": [
    "firstname = 'payton'\n",
    "surname = 'wiscovitch'\n",
    "print(firstname.title() + \" \" + surname.title())"
   ]
  },
  {
   "cell_type": "code",
   "execution_count": 2,
   "id": "5bdc662f",
   "metadata": {},
   "outputs": [
    {
     "data": {
      "text/plain": [
       "32"
      ]
     },
     "execution_count": 2,
     "metadata": {},
     "output_type": "execute_result"
    }
   ],
   "source": [
    "poem = 'Deep into that darkness peering,'\n",
    "len(poem)"
   ]
  },
  {
   "cell_type": "code",
   "execution_count": 3,
   "id": "4380c57a",
   "metadata": {},
   "outputs": [
    {
     "data": {
      "text/plain": [
       "'darkness'"
      ]
     },
     "execution_count": 3,
     "metadata": {},
     "output_type": "execute_result"
    }
   ],
   "source": [
    "poem[15:23]"
   ]
  },
  {
   "cell_type": "code",
   "execution_count": 4,
   "id": "e272afae",
   "metadata": {},
   "outputs": [],
   "source": [
    "# Question 3:  Removes extra characters from the start and end of a string and explain why you need to remove white spaces while exploring text.\n"
   ]
  },
  {
   "cell_type": "code",
   "execution_count": 5,
   "id": "1cad5acd",
   "metadata": {},
   "outputs": [],
   "source": [
    "# answer3: strip method removes extra white spaces"
   ]
  },
  {
   "cell_type": "code",
   "execution_count": 7,
   "id": "8efb1ec7",
   "metadata": {},
   "outputs": [
    {
     "data": {
      "text/plain": [
       "'Leaving nonsensical spaces is just silly'"
      ]
     },
     "execution_count": 7,
     "metadata": {},
     "output_type": "execute_result"
    }
   ],
   "source": [
    "example = ' Leaving nonsensical spaces is just silly '\n",
    "example.strip()"
   ]
  },
  {
   "cell_type": "code",
   "execution_count": 9,
   "id": "1da7ba26",
   "metadata": {},
   "outputs": [
    {
     "data": {
      "text/plain": [
       "' Leaving nonsensical spaces is just silly'"
      ]
     },
     "execution_count": 9,
     "metadata": {},
     "output_type": "execute_result"
    }
   ],
   "source": [
    "example.rstrip() # removes white spaces from the right of the string"
   ]
  },
  {
   "cell_type": "code",
   "execution_count": 10,
   "id": "3672994e",
   "metadata": {},
   "outputs": [
    {
     "data": {
      "text/plain": [
       "'Leaving nonsensical spaces is just silly '"
      ]
     },
     "execution_count": 10,
     "metadata": {},
     "output_type": "execute_result"
    }
   ],
   "source": [
    "example.lstrip() # removes white spaces from the left of the string"
   ]
  },
  {
   "cell_type": "code",
   "execution_count": null,
   "id": "29eec673",
   "metadata": {},
   "outputs": [],
   "source": [
    "# white spaces are counted as characters and processed in Python which is why it makes sense to remove them."
   ]
  }
 ],
 "metadata": {
  "kernelspec": {
   "display_name": "Python 3 (ipykernel)",
   "language": "python",
   "name": "python3"
  },
  "language_info": {
   "codemirror_mode": {
    "name": "ipython",
    "version": 3
   },
   "file_extension": ".py",
   "mimetype": "text/x-python",
   "name": "python",
   "nbconvert_exporter": "python",
   "pygments_lexer": "ipython3",
   "version": "3.9.19"
  }
 },
 "nbformat": 4,
 "nbformat_minor": 5
}
