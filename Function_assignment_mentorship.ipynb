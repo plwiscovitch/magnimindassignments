{
 "cells": [
  {
   "cell_type": "markdown",
   "id": "b418db98",
   "metadata": {},
   "source": [
    "**Finding Prime Number**\n",
    "\n",
    "A prime number is an integer greater than one that is only divisible by one and itself. Write a function that determines whether or not its parameter is prime, returning True if it is, and False otherwise. Write a main program that reads an integer from the user and displays a message indicating whether or not it is prime."
   ]
  },
  {
   "cell_type": "code",
   "execution_count": 10,
   "id": "dd49a38c",
   "metadata": {},
   "outputs": [],
   "source": [
    "def is_prime(num):\n",
    "  if num == 2:\n",
    "    return True\n",
    "  elif num > 1:\n",
    "    for divisor in range(2, num):\n",
    "      if num % divisor == 0:\n",
    "        print(f\"{divisor} is a factor of {num}. Therefore, {num} is not a prime number.\")\n",
    "        return False\n",
    "      else:\n",
    "        return True\n",
    "  else:\n",
    "    return \"Please enter a number greater than 1\""
   ]
  },
  {
   "cell_type": "code",
   "execution_count": 11,
   "id": "a9715f7b",
   "metadata": {},
   "outputs": [
    {
     "data": {
      "text/plain": [
       "True"
      ]
     },
     "execution_count": 11,
     "metadata": {},
     "output_type": "execute_result"
    }
   ],
   "source": [
    "is_prime(7)"
   ]
  },
  {
   "cell_type": "code",
   "execution_count": 12,
   "id": "2a2158ff",
   "metadata": {},
   "outputs": [
    {
     "data": {
      "text/plain": [
       "True"
      ]
     },
     "execution_count": 12,
     "metadata": {},
     "output_type": "execute_result"
    }
   ],
   "source": [
    "is_prime(2)"
   ]
  },
  {
   "cell_type": "code",
   "execution_count": 13,
   "id": "940b7d29",
   "metadata": {},
   "outputs": [
    {
     "name": "stdout",
     "output_type": "stream",
     "text": [
      "2 is a factor of 6. Therefore, 6 is not a prime number.\n"
     ]
    },
    {
     "data": {
      "text/plain": [
       "False"
      ]
     },
     "execution_count": 13,
     "metadata": {},
     "output_type": "execute_result"
    }
   ],
   "source": [
    "is_prime(6)"
   ]
  },
  {
   "cell_type": "markdown",
   "id": "7fae237e",
   "metadata": {},
   "source": [
    "**Celsius to Romer converter**\n",
    "\n",
    "You're writing an excruciatingly detailed alternate history novel set in a world where Daniel Gabriel Fahrenheit was never born.\n",
    "\n",
    "Since Fahrenheit never lived the world kept on using the Rømer scale, invented by fellow Dane Ole Rømer to this very day, skipping over the Fahrenheit and Celsius scales entirely.\n",
    "\n",
    "Your magnum opus contains several thousand references to temperature, but those temperatures are all currently in degrees Celsius. You don't want to convert everything by hand, so you've decided to write a function, celsius_to_romer that takes a temperature in degrees Celsius and returns the equivalent temperature in degrees Rømer.\n",
    "\n",
    "For example: celsius_to_romer(24) should return 20.1"
   ]
  },
  {
   "cell_type": "code",
   "execution_count": 14,
   "id": "7c03246a",
   "metadata": {},
   "outputs": [],
   "source": [
    "# Celsius to Romer\n",
    "def celsius_romer():\n",
    "  celsius = float(input(\"Enter degrees celsius: \"))\n",
    "  romer = celsius * (21/40) + 7.5\n",
    "  return romer"
   ]
  },
  {
   "cell_type": "code",
   "execution_count": 15,
   "id": "4e9caade",
   "metadata": {},
   "outputs": [
    {
     "name": "stdout",
     "output_type": "stream",
     "text": [
      "Enter degrees celsius: 24\n"
     ]
    },
    {
     "data": {
      "text/plain": [
       "20.1"
      ]
     },
     "execution_count": 15,
     "metadata": {},
     "output_type": "execute_result"
    }
   ],
   "source": [
    "celsius_romer()"
   ]
  },
  {
   "cell_type": "markdown",
   "id": "1a714c00",
   "metadata": {},
   "source": [
    "**Pixel Art Planning**\n",
    "You're laying out a rad pixel art mural to paint on your living room wall in homage to Paul Robertson, your favorite pixel artist.\n",
    "\n",
    "You want your work to be perfect down to the millimeter. You haven't decided on the dimensions of your piece, how large you want your pixels to be, or which wall you want to use. You just know that you want to fit an exact number of pixels.\n",
    "\n",
    "To help decide those things you've decided to write a function, is_divisible that will tell you whether a wall of a certain length can exactly fit an integer number of pixels of a certain length.\n",
    "\n",
    "Your function should take two arguments: the size of the wall in millimeters and the size of a pixel in millimeters. It should return True if you can fit an exact number of pixels on the wall, otherwise it should return False. For example is_divisible(4050, 27) should return True, but is_divisible(4066, 27) should return False.\n",
    "\n",
    "Note: you don't need to use an if statement here. Remember that in Python an expression using the == comparison operator will evaluate to either True or False"
   ]
  },
  {
   "cell_type": "code",
   "execution_count": 16,
   "id": "d03795bc",
   "metadata": {},
   "outputs": [],
   "source": [
    "def is_divisible(wall, pixel):\n",
    "    return wall % pixel == 0"
   ]
  },
  {
   "cell_type": "code",
   "execution_count": 17,
   "id": "0e6614c9",
   "metadata": {},
   "outputs": [
    {
     "data": {
      "text/plain": [
       "True"
      ]
     },
     "execution_count": 17,
     "metadata": {},
     "output_type": "execute_result"
    }
   ],
   "source": [
    "is_divisible(4050, 27)"
   ]
  },
  {
   "cell_type": "code",
   "execution_count": 18,
   "id": "bc4db2f1",
   "metadata": {},
   "outputs": [
    {
     "data": {
      "text/plain": [
       "False"
      ]
     },
     "execution_count": 18,
     "metadata": {},
     "output_type": "execute_result"
    }
   ],
   "source": [
    "is_divisible(4066, 27)"
   ]
  },
  {
   "cell_type": "code",
   "execution_count": null,
   "id": "1bf910cc",
   "metadata": {},
   "outputs": [],
   "source": []
  }
 ],
 "metadata": {
  "kernelspec": {
   "display_name": "Python 3 (ipykernel)",
   "language": "python",
   "name": "python3"
  },
  "language_info": {
   "codemirror_mode": {
    "name": "ipython",
    "version": 3
   },
   "file_extension": ".py",
   "mimetype": "text/x-python",
   "name": "python",
   "nbconvert_exporter": "python",
   "pygments_lexer": "ipython3",
   "version": "3.9.19"
  }
 },
 "nbformat": 4,
 "nbformat_minor": 5
}
