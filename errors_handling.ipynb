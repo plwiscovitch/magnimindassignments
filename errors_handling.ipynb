{
  "nbformat": 4,
  "nbformat_minor": 0,
  "metadata": {
    "colab": {
      "provenance": []
    },
    "kernelspec": {
      "name": "python3",
      "display_name": "Python 3"
    },
    "language_info": {
      "name": "python"
    }
  },
  "cells": [
    {
      "cell_type": "markdown",
      "source": [
        "1- Let us define a division operation inside a function (using def) but to get an error, define the denominator as 0. So, type except statement properly."
      ],
      "metadata": {
        "id": "yGm7XeYOSpjB"
      }
    },
    {
      "cell_type": "code",
      "source": [
        "def divide(x,y):\n",
        "  try:\n",
        "    print(x/y)\n",
        "  except ZeroDivisionError:\n",
        "    print(\"Please enter a valid divisor. 0 is not a valid divisor.\")"
      ],
      "metadata": {
        "id": "Zg4raeeESuV2"
      },
      "execution_count": 2,
      "outputs": []
    },
    {
      "cell_type": "code",
      "source": [
        "divide(5,0)"
      ],
      "metadata": {
        "colab": {
          "base_uri": "https://localhost:8080/"
        },
        "id": "Zryxhp32UFA6",
        "outputId": "828f33d4-d68b-4554-d860-ce3b9162d3d7"
      },
      "execution_count": 4,
      "outputs": [
        {
          "output_type": "stream",
          "name": "stdout",
          "text": [
            "Please enter a valid divisor. 0 is not a valid divisor.\n"
          ]
        }
      ]
    },
    {
      "cell_type": "code",
      "source": [
        "divide(6,2)"
      ],
      "metadata": {
        "colab": {
          "base_uri": "https://localhost:8080/"
        },
        "id": "u4DChgvBULrW",
        "outputId": "f56ade13-2a22-49c7-e126-a9276e1e19b9"
      },
      "execution_count": 5,
      "outputs": [
        {
          "output_type": "stream",
          "name": "stdout",
          "text": [
            "3.0\n"
          ]
        }
      ]
    },
    {
      "cell_type": "markdown",
      "source": [
        "2- It is possible to get multiple errors after the execution of one try block. So, please define an error-exception issue with NameError."
      ],
      "metadata": {
        "id": "Oc3zGIlJSvHm"
      }
    },
    {
      "cell_type": "code",
      "source": [
        "def enter_password():\n",
        "  try:\n",
        "    password = \"MyP@ssw0rd\"\n",
        "    return mypassword\n",
        "  except NameError:\n",
        "    return \"NameError has occurred. There is a variable that has not been defined.\"\n",
        "\n",
        "\n",
        "print(enter_password())"
      ],
      "metadata": {
        "colab": {
          "base_uri": "https://localhost:8080/"
        },
        "id": "LgnDRb4ZSxbm",
        "outputId": "c38238ec-d568-4122-fb18-7ea1b04fe05a"
      },
      "execution_count": 13,
      "outputs": [
        {
          "output_type": "stream",
          "name": "stdout",
          "text": [
            "NameError has occurred. There is a variable that has not been defined.\n"
          ]
        }
      ]
    },
    {
      "cell_type": "markdown",
      "source": [
        "3- Please define a function and with this function, generate a ValueError exception simply by entering a string instead of numerical value."
      ],
      "metadata": {
        "id": "0_CkXRmxSx7c"
      }
    },
    {
      "cell_type": "code",
      "source": [
        "def print_this():\n",
        "  x = (input(\"please enter a number: \"))\n",
        "  try:\n",
        "    print(float(x))\n",
        "  except ValueError:\n",
        "    print(\"You entered a string instead of a number.\")"
      ],
      "metadata": {
        "id": "QwBbRfIfcCcD"
      },
      "execution_count": 24,
      "outputs": []
    },
    {
      "cell_type": "code",
      "source": [
        "print_this()"
      ],
      "metadata": {
        "colab": {
          "base_uri": "https://localhost:8080/"
        },
        "id": "7Lmm2W_KcoRR",
        "outputId": "1a974b7e-8ceb-45a2-e35c-39709ee9a163"
      },
      "execution_count": 26,
      "outputs": [
        {
          "output_type": "stream",
          "name": "stdout",
          "text": [
            "please enter a number: '6'\n",
            "You entered a string instead of a number.\n"
          ]
        }
      ]
    },
    {
      "cell_type": "code",
      "source": [
        "print_this()"
      ],
      "metadata": {
        "colab": {
          "base_uri": "https://localhost:8080/"
        },
        "id": "RbQf6F0QeZFQ",
        "outputId": "bcfa7e46-a148-4600-f26e-1ee2c65bdb38"
      },
      "execution_count": 27,
      "outputs": [
        {
          "output_type": "stream",
          "name": "stdout",
          "text": [
            "please enter a number: 6\n",
            "6.0\n"
          ]
        }
      ]
    },
    {
      "cell_type": "markdown",
      "source": [
        "4- Write a function called circumference that takes the diameter of a circle as input and produces the circumference of the circle. Your function should use try...except to check for a type error in the event a string is passed."
      ],
      "metadata": {
        "id": "99c8wgOFS0Y3"
      }
    },
    {
      "cell_type": "code",
      "source": [
        "def circumference():\n",
        "  diameter = input(\"please enter the diameter of the circle as a decimal: \")\n",
        "  pi = 3.14\n",
        "  try:\n",
        "    diameter = float(diameter)\n",
        "    result = diameter*pi\n",
        "    return round(result, 2)\n",
        "  except ValueError:\n",
        "    return \"please enter a number, not a string.\""
      ],
      "metadata": {
        "id": "ngWT7IaRS2eP"
      },
      "execution_count": 46,
      "outputs": []
    },
    {
      "cell_type": "code",
      "source": [
        "circumference()"
      ],
      "metadata": {
        "colab": {
          "base_uri": "https://localhost:8080/",
          "height": 53
        },
        "id": "WFOVdtdFftTN",
        "outputId": "a7fb36a5-686a-43d1-baf5-a197871667b9"
      },
      "execution_count": 47,
      "outputs": [
        {
          "name": "stdout",
          "output_type": "stream",
          "text": [
            "please enter the diameter of the circle as a decimal: payton\n"
          ]
        },
        {
          "output_type": "execute_result",
          "data": {
            "text/plain": [
              "'please enter a number, not a string.'"
            ],
            "application/vnd.google.colaboratory.intrinsic+json": {
              "type": "string"
            }
          },
          "metadata": {},
          "execution_count": 47
        }
      ]
    },
    {
      "cell_type": "code",
      "source": [
        "circumference()"
      ],
      "metadata": {
        "colab": {
          "base_uri": "https://localhost:8080/"
        },
        "id": "caRbjeb2htwE",
        "outputId": "fcabcdc3-6a8a-4573-ea60-4f3379073148"
      },
      "execution_count": 48,
      "outputs": [
        {
          "name": "stdout",
          "output_type": "stream",
          "text": [
            "please enter the diameter of the circle as a decimal: 6\n"
          ]
        },
        {
          "output_type": "execute_result",
          "data": {
            "text/plain": [
              "18.84"
            ]
          },
          "metadata": {},
          "execution_count": 48
        }
      ]
    },
    {
      "cell_type": "code",
      "source": [],
      "metadata": {
        "id": "7iXPbxMpgQEB"
      },
      "execution_count": null,
      "outputs": []
    }
  ]
}